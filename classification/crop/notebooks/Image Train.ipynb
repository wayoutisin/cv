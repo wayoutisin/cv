{
 "cells": [
  {
   "cell_type": "markdown",
   "id": "5133f967",
   "metadata": {},
   "source": [
    "## Overview\n",
    "This notebook captures the implementation of training an image classification model to identify if a crop is infected based on the input leaf image. This notebook will be executed in kaggle because of large data size as well as the various options we would like to explore for improving the training accuracy \n",
    "- Different Learning Rates \n",
    "- Different Cost Functions\n",
    "- Label Smoothening"
   ]
  }
 ],
 "metadata": {
  "kernelspec": {
   "display_name": "Python 3 (ipykernel)",
   "language": "python",
   "name": "python3"
  },
  "language_info": {
   "codemirror_mode": {
    "name": "ipython",
    "version": 3
   },
   "file_extension": ".py",
   "mimetype": "text/x-python",
   "name": "python",
   "nbconvert_exporter": "python",
   "pygments_lexer": "ipython3",
   "version": "3.9.0"
  }
 },
 "nbformat": 4,
 "nbformat_minor": 5
}
