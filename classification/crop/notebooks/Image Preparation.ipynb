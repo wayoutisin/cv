{
 "cells": [
  {
   "cell_type": "markdown",
   "id": "8fb83f1e",
   "metadata": {},
   "source": [
    "## Overview\n",
    "This notebook captures the implementation of various image augmentation techniques to improve the quality of the input data. Some of the things that we need to handle in this notebook includes\n",
    "- Removal of duplicate data images from data \n",
    "- Handling of imbalanced classes\n",
    "- Removal of certain crops that don't have an infected class\n",
    "- Augmenting the data to improve the completeness of input data"
   ]
  },
  {
   "cell_type": "markdown",
   "id": "2ccb9918",
   "metadata": {},
   "source": [
    "### Setup Environment\n",
    "Here are the commands that can be used to setup the environment required for executing this notebook. Make sure you have python version 3.9.0 or higher"
   ]
  },
  {
   "cell_type": "code",
   "execution_count": 162,
   "id": "297425f6",
   "metadata": {},
   "outputs": [],
   "source": [
    "# !pip install torch\n",
    "# !pip install torchvision\n",
    "# !pip install opencv-python\n",
    "# !pip install matplotlib\n",
    "# !pip install pandas\n",
    "# !pip install scipy\n",
    "# !pip install sklearn\n",
    "# !pip install imgaug"
   ]
  },
  {
   "cell_type": "code",
   "execution_count": 114,
   "id": "82d3ec89",
   "metadata": {},
   "outputs": [],
   "source": [
    "# import the required packages \n",
    "import os\n",
    "import math\n",
    "# import cv2\n",
    "# import glob\n",
    "import torch\n",
    "import numpy\n",
    "import pandas\n",
    "import random\n",
    "# import scipy.fftpack\n",
    "# from PIL import Image\n",
    "# from random import sample \n",
    "from collections import Counter\n",
    "# import matplotlib.pyplot as plt\n",
    "# from scipy.spatial import distance\n",
    "# from torch.utils.data import Subset\n",
    "import shutil\n",
    "from torchvision import datasets, transforms\n",
    "from torch.utils.data import DataLoader, Dataset, WeightedRandomSampler\n",
    "from torch.utils.data.sampler import BatchSampler"
   ]
  },
  {
   "cell_type": "code",
   "execution_count": 115,
   "id": "879e991d",
   "metadata": {},
   "outputs": [],
   "source": [
    "# define important variables\n",
    "IMAGE_DIR = './images/train/'\n",
    "PROCESSED_DIR = './images/processed/'\n",
    "BALANCED_DIR = './images/balanced/'\n",
    "AUGMENTEd_DIR = './images/augmented/'\n",
    "FILE_TYPE = '.JPG'\n",
    "BATCH_SIZE = 64\n",
    "HASH_SIZE = 8\n",
    "HIGHFREQ_FACTOR = 4"
   ]
  },
  {
   "cell_type": "markdown",
   "id": "8d0f67e2",
   "metadata": {},
   "source": [
    "### Removal of Duplicate Images\n",
    "The duplicate image input dictionary is obtained using perceptual hashing and hamming distance over the input images. This is implemented in \"Image Classification EDA\" notebook"
   ]
  },
  {
   "cell_type": "code",
   "execution_count": 4,
   "id": "788437c0",
   "metadata": {},
   "outputs": [],
   "source": [
    "# This input data is obtained from \"Image Classification EDA\" notebook\n",
    "dup = [['./images/train/Tomato___Late_blight/e20107e7-137f-400e-817f-5dc4c58e5d70___GHLB2 Leaf 8677.JPG',\n",
    "  './images/train/Tomato___Late_blight/5688ea99-c949-41d0-bbab-9cbf0ffb8bcd___GHLB2 Leaf 8677.JPG'],\n",
    " ['./images/train/Tomato___Late_blight/5f21282c-e2ef-4c4a-ace1-b5701fe7effc___GHLB2 Leaf 8999.JPG',\n",
    "  './images/train/Tomato___Late_blight/e5d707cd-077c-43af-bda9-6138e516ff51___GHLB2 Leaf 8999.JPG'],\n",
    " ['./images/train/Tomato___Late_blight/1a69b38b-c4eb-42c4-9584-bcb14fb8db0c___GHLB2 Leaf 9011.JPG',\n",
    "  './images/train/Tomato___Late_blight/2c47b891-3c97-48f1-a2cc-5aa53d3a1148___GHLB2 Leaf 9011.JPG'],\n",
    " ['./images/train/Tomato___Late_blight/d81682aa-746b-4e07-af2b-52ebb6f4c017___GHLB2 Leaf 102.JPG',\n",
    "  './images/train/Tomato___Late_blight/d6e6897a-5083-4914-9903-804c5684a956___GHLB2 Leaf 102.JPG'],\n",
    " ['./images/train/Tomato___healthy/d2ce7896-6fa4-45e6-96c5-d162da0e3e1c___GH_HL Leaf 220.JPG',\n",
    "  './images/train/Tomato___healthy/9662364c-aaba-45e3-b907-10792d60578c___GH_HL Leaf 220.JPG'],\n",
    " ['./images/train/Tomato___healthy/505465db-407b-4e0a-8110-7479dad5261c___GH_HL Leaf 389.JPG',\n",
    "  './images/train/Tomato___healthy/37203047-d8ba-43f7-b31e-d496c41c569c___GH_HL Leaf 389.JPG'],\n",
    " ['./images/train/Tomato___healthy/cfd491d6-4af5-4728-8f0e-0d330a07174a___GH_HL Leaf 482.2.JPG',\n",
    "  './images/train/Tomato___healthy/1af0bfe1-4bcf-4b8b-be66-5d0953eb647e___GH_HL Leaf 482.2.JPG'],\n",
    " ['./images/train/Tomato___healthy/488feb1c-4b9f-44e7-8aa6-4103a9601f5f___GH_HL Leaf 434.JPG',\n",
    "  './images/train/Tomato___healthy/a5de43e7-fc2f-4a14-a8e6-c0f2f94c84f1___GH_HL Leaf 434.JPG'],\n",
    " ['./images/train/Tomato___healthy/37aad83b-7ff8-4b35-b3ed-fb8e0f54910b___GH_HL Leaf 342.1.JPG',\n",
    "  './images/train/Tomato___healthy/e786ac89-29fe-47e3-b49e-b9a9ee7edd9d___GH_HL Leaf 342.1.JPG'],\n",
    " ['./images/train/Tomato___healthy/068e324c-faf6-40d6-8f83-578907f1cac5___GH_HL Leaf 466.1.JPG',\n",
    "  './images/train/Tomato___healthy/34c81c57-e1fa-49dd-a49d-34fe8b2385fe___GH_HL Leaf 466.1.JPG'],\n",
    " ['./images/train/Apple___Apple_scab/0a5e9323-dbad-432d-ac58-d291718345d9___FREC_Scab 3417.JPG',\n",
    "  './images/train/Apple___Apple_scab/0a5e9323-dbad-432d-ac58-d291718345d9___FREC_Scab 3417 copy.JPG'],\n",
    " ['./images/train/Apple___healthy/3d075f90-7002-4c45-abc0-4f35ee49aa79___RS_HL 6272.JPG',\n",
    "  './images/train/Apple___healthy/acb21cc2-8d65-4880-a7bb-dcc1eab1564b___RS_HL 6272.JPG'],\n",
    " ['./images/train/Apple___healthy/ced4e27a-5eff-4190-a33a-cdc3d84c811e___RS_HL 6270.JPG',\n",
    "  './images/train/Apple___healthy/dc18b924-f172-445d-8fed-61445d437aaa___RS_HL 6270.JPG'],\n",
    " ['./images/train/Apple___healthy/1ab5e019-e5f0-4d8e-a252-94cb0aab8b0a___RS_HL 6269.JPG',\n",
    "  './images/train/Apple___healthy/3673d121-b5de-481c-b057-d4ee5b4959b1___RS_HL 6269.JPG'],\n",
    " ['./images/train/Apple___healthy/f2cda910-55c7-46d7-b1a2-9a3bb9792148___RS_HL 6274.JPG',\n",
    "  './images/train/Apple___healthy/fdbfa6f7-f887-442d-8df1-1f0cf839fc4d___RS_HL 6274.JPG'],\n",
    " ['./images/train/Apple___healthy/14896dc0-688d-456f-b5ec-a037695b0193___RS_HL 6268.JPG',\n",
    "  './images/train/Apple___healthy/c21cf428-bfc3-4710-b5d2-69d1c0e94748___RS_HL 6268.JPG'],\n",
    " ['./images/train/Apple___healthy/9b75de13-d4b0-4b3f-988c-3e9926eef957___RS_HL 6273.JPG',\n",
    "  './images/train/Apple___healthy/5192db55-4aa7-421c-92d4-c2dac79e7379___RS_HL 6273.JPG'],\n",
    " ['./images/train/Apple___healthy/11beda66-01e9-4bfd-be37-c0f8646d1478___RS_HL 6271.JPG',\n",
    "  './images/train/Apple___healthy/13298d36-4425-437d-ae8e-c7d70e200084___RS_HL 6271.JPG']]"
   ]
  },
  {
   "cell_type": "code",
   "execution_count": 5,
   "id": "4d8e1724",
   "metadata": {},
   "outputs": [
    {
     "name": "stdout",
     "output_type": "stream",
     "text": [
      "Total number of files copied :- 54307\n",
      "Total number of files after removing duplicates :-  54289\n"
     ]
    }
   ],
   "source": [
    "excl = [i[1].replace('/train/','/processed/') for i in dup]\n",
    "if os.path.exists(PROCESSED_DIR):\n",
    "    shutil.rmtree(PROCESSED_DIR)\n",
    "shutil.copytree(IMAGE_DIR, PROCESSED_DIR, dirs_exist_ok=False)\n",
    "print(f'Total number of files copied :- {sum([len(files) for r, d, files in os.walk(PROCESSED_DIR)])}')\n",
    "for file in excl:\n",
    "    os.remove(file)\n",
    "print(f'Total number of files after removing duplicates :-  {sum([len(files) for r, d, files in os.walk(PROCESSED_DIR)])}')"
   ]
  },
  {
   "cell_type": "markdown",
   "id": "c78ebac4",
   "metadata": {},
   "source": [
    "### Remove crops with only one class :- \"healthy\"\n",
    "While this data can be used in future, at this stage is doesn't seems relevant to include crops that have data only for the healthy crop. The list used below is obtained from the \"Image Classification EDA\" notebook"
   ]
  },
  {
   "cell_type": "code",
   "execution_count": 6,
   "id": "7b1034ae",
   "metadata": {},
   "outputs": [
    {
     "name": "stdout",
     "output_type": "stream",
     "text": [
      "Removing data for target class label Orange___Haunglongbing_(Citrus_greening)\n",
      "Removing data for target class label Raspberry___healthy\n",
      "Removing data for target class label Soybean___healthy\n",
      "Removing data for target class label Squash___Powdery_mildew\n"
     ]
    }
   ],
   "source": [
    "ref = ['Orange___Haunglongbing_(Citrus_greening)','Raspberry___healthy','Soybean___healthy','Squash___Powdery_mildew']\n",
    "for d in ref:\n",
    "    print(f'Removing data for target class label {d}')\n",
    "    shutil.rmtree(PROCESSED_DIR + d)"
   ]
  },
  {
   "cell_type": "markdown",
   "id": "1750c263",
   "metadata": {},
   "source": [
    "### Handling Imbalanced Data\n",
    "During EDA in \"Image Classification EDA\" notebook we observed that the input images are not balanced across the target class. As such we need to identify ways to balanced the input data so that our model is not biased towards classes that have high number of samples."
   ]
  },
  {
   "cell_type": "code",
   "execution_count": 7,
   "id": "46f4de0e",
   "metadata": {},
   "outputs": [],
   "source": [
    "# create the crop dataset class for this example reading files from a local folder\n",
    "class CropDataset(Dataset):\n",
    "    def __init__(self, file_path, transform=None):\n",
    "        xform = transforms.Compose([transforms.ToTensor()]) if transform is None else transform\n",
    "        self.img_dataset = datasets.ImageFolder(file_path, transform=xform)\n",
    "\n",
    "    def __len__(self):\n",
    "        return len(self.img_dataset)\n",
    "\n",
    "    def __getitem__(self, idx):\n",
    "        image, label = self.img_dataset[idx]\n",
    "        return image, label\n",
    "    \n",
    "    # this is an experimental method created to explore how the dunder methods can be modified\n",
    "    def __repr__(self, idx=0):\n",
    "        image, label = self.img_dataset[idx]\n",
    "        plt.imshow(image.permute(1,2,0))\n",
    "        return str(\"Display view of the image\")\n",
    "    \n",
    "    def collate_fn(self, batch):\n",
    "        images, targets = list(zip(*batch))"
   ]
  },
  {
   "cell_type": "code",
   "execution_count": 8,
   "id": "d5d030c2",
   "metadata": {},
   "outputs": [],
   "source": [
    "crop = CropDataset(PROCESSED_DIR)"
   ]
  },
  {
   "cell_type": "code",
   "execution_count": 9,
   "id": "a010e8fb",
   "metadata": {},
   "outputs": [
    {
     "data": {
      "image/png": "[encoded data removed]",
      "text/plain": [
       "<Figure size 1440x360 with 1 Axes>"
      ]
     },
     "metadata": {
      "needs_background": "light"
     },
     "output_type": "display_data"
    }
   ],
   "source": [
    "img_class = pandas.DataFrame(crop.img_dataset.class_to_idx, \n",
    "                             index=['class_id']).transpose().reset_index().rename(columns={'index':'class'})\n",
    "\n",
    "img_count = pandas.DataFrame(dict(Counter(crop.img_dataset.targets)), \n",
    "                                    index=['count']).transpose().reset_index().rename(columns={'index':'class_id'})\n",
    "\n",
    "ax = img_class.merge(img_count, on=['class_id'], how='inner').plot.bar(x='class', y='count', figsize=(20, 5))\n",
    "for p in ax.patches:\n",
    "    ax.annotate(str(p.get_height()), (p.get_x() * 1.005, p.get_height() * 1.005))"
   ]
  },
  {
   "cell_type": "markdown",
   "id": "7ccd8e90",
   "metadata": {},
   "source": [
    "Things that we can try out to handle the imbalance in this dataset. Some options can be tried during the data pre-processing, while others can be tried during Training\n",
    "\n",
    "#### Data Preparation\n",
    "- Data Augmentation :- Increase the number of data points for the less frequent class\n",
    "- Weighted Sampler :- To pick samples based on the number of data points\n",
    "\n",
    "#### Training\n",
    "- Re-weighted :- Loss function is influenced by assigning relatively higher costs to examples from minority classes\n",
    "- Learning Rate Scheduling :- Warm-up LR, Step Decay LR, Cosine Decay LR, Hybrid, Annealing, Adaptive Decay LR\n",
    "- Loss Function :- Use Focal Loss function\n",
    "- Label Smoothening :- Instead of a 0 and 1 for the labels create a continuous distribution of the output \n",
    "\n",
    "#### Other Potential Options \n",
    "- Chipping Images :-\n",
    "- With small datasets and too much overfitting, introducing background variation like backgrounds / shadows\n",
    "- Merge near identical classes :- As the name suggests, merge smaller similar classes to create a larger dataset\n",
    "- Re-sampling :- Over or under sampling"
   ]
  },
  {
   "cell_type": "code",
   "execution_count": 10,
   "id": "e8daa691",
   "metadata": {},
   "outputs": [
    {
     "name": "stdout",
     "output_type": "stream",
     "text": [
      "Included data from first 6400 samples\n",
      "Included data from first 12800 samples\n",
      "Included data from first 19200 samples\n",
      "Included data from first 25600 samples\n",
      "Included data from first 32000 samples\n",
      "Included data from first 38400 samples\n",
      "Included data from all 41485 samples\n",
      "Class distribution {13: 1076, 10: 1162, 20: 1000, 0: 630, 29: 1676, 32: 373, 6: 854, 25: 1000, 15: 2297, 3: 1638, 9: 985, 16: 360, 22: 1109, 2: 275, 31: 5357, 27: 952, 12: 1383, 30: 1404, 1: 621, 18: 1478, 7: 513, 21: 152, 8: 1192, 5: 1052, 19: 1000, 33: 1585, 28: 1771, 24: 2127, 23: 456, 26: 1905, 4: 1502, 17: 997, 14: 423, 11: 1180}\n"
     ]
    }
   ],
   "source": [
    "# perform undersampling to select 500 images per class. The lowest image count we have is 153 and the highest os 5000+. \n",
    "# majority of the classes though are near 500 mark.\n",
    "\n",
    "# define a weighted sampler for the images \n",
    "lst_target = []\n",
    "num_samples = len(crop.img_dataset)\n",
    "label = list(crop.img_dataset.targets)\n",
    "class_weights = [round(1.0/v,5) for k, v in dict(Counter(crop.img_dataset.targets)).items()]\n",
    "weights = [class_weights[label[i]] for i in range(num_samples)]\n",
    "\n",
    "sampler = WeightedRandomSampler(weights, num_samples, replacement=False)\n",
    "img_loader = DataLoader(dataset=crop.img_dataset, batch_size=BATCH_SIZE, sampler=sampler)\n",
    "for idx, (image, target) in enumerate(img_loader):\n",
    "    lst_target.extend(list(target.numpy()))\n",
    "    if idx%100 == 0 and idx > 0:\n",
    "        print(f'Included data from first {idx * BATCH_SIZE} samples')\n",
    "print(f'Included data from all {num_samples} samples')\n",
    "print(f'Class distribution {dict(Counter(lst_target))}')"
   ]
  },
  {
   "cell_type": "markdown",
   "id": "5f9bc596",
   "metadata": {},
   "source": [
    "### Balanced Random Selection (Dataset)"
   ]
  },
  {
   "cell_type": "code",
   "execution_count": 108,
   "id": "f739f4a3",
   "metadata": {},
   "outputs": [],
   "source": [
    "# the weighted sampler above will not work clearly since we would like to have a more balanced dataset here\n",
    "# we need to create a Balanced Batch Sampler \n",
    "class BalancedBatchSampler(BatchSampler):\n",
    "    def __init__(self, dataset, n_classes, n_samples, n_batches):\n",
    "        loader = DataLoader(dataset)\n",
    "        self.labels_list = []\n",
    "        for _, label in loader:\n",
    "            self.labels_list.append(label)\n",
    "        self.labels = torch.LongTensor(self.labels_list)\n",
    "        self.labels_set = list(set(self.labels.numpy()))\n",
    "        self.label_to_indices = {label: numpy.where(self.labels.numpy() == label)[0]\n",
    "                                 for label in self.labels_set}\n",
    "        for l in self.labels_set:\n",
    "            numpy.random.shuffle(self.label_to_indices[l])\n",
    "        self.used_label_indices_count = {label: 0 for label in self.labels_set}\n",
    "        self.count = 0\n",
    "        self.n_classes = n_classes\n",
    "        self.n_samples = n_samples\n",
    "        self.dataset = dataset\n",
    "        self.batch_size = n_batches\n",
    "        self.dataset_size = self.n_samples * self.n_classes\n",
    "        \n",
    "        classes = numpy.random.choice(self.labels_set, self.n_classes, replace=False)\n",
    "        self.indices = []\n",
    "        for class_ in classes:\n",
    "            self.indices.extend(self.label_to_indices[class_][\n",
    "                           self.used_label_indices_count[class_]:self.used_label_indices_count[\n",
    "                                                                     class_] + self.n_samples])\n",
    "            self.used_label_indices_count[class_] += min(self.n_samples,len(self.label_to_indices[class_]))\n",
    "            while self.used_label_indices_count[class_] < self.n_samples:\n",
    "                numpy.random.shuffle(self.label_to_indices[class_])\n",
    "                self.indices.extend(self.label_to_indices[class_][0:\n",
    "                                            min(self.n_samples - self.used_label_indices_count[class_],\n",
    "                                                len(self.label_to_indices[class_]))])\n",
    "                self.used_label_indices_count[class_] += min(self.n_samples - self.used_label_indices_count[class_],\n",
    "                                                len(self.label_to_indices[class_]))        \n",
    "            \n",
    "    def __iter__(self):\n",
    "        while self.count  < self.dataset_size:\n",
    "            yield from self.indices[self.count:self.count+self.batch_size]\n",
    "            self.count += self.batch_size\n",
    "\n",
    "    def __len__(self):\n",
    "        return len(self.indices) // self.batch_size"
   ]
  },
  {
   "cell_type": "code",
   "execution_count": 109,
   "id": "62949251",
   "metadata": {},
   "outputs": [],
   "source": [
    "n_classes = 34\n",
    "n_samples = 500\n",
    "\n",
    "balanced_batch_sampler = BalancedBatchSampler(crop.img_dataset, n_classes, n_samples, BATCH_SIZE)\n",
    "lst_target = []\n",
    "img_loader = DataLoader(dataset=crop.img_dataset, batch_size=BATCH_SIZE, sampler=balanced_batch_sampler)\n",
    "for idx, (image, target) in enumerate(img_loader):\n",
    "    # This is a dummy code, but you can write your implementation train the model here\n",
    "    lst_target.extend(list(target.numpy()))\n",
    "    if idx%100 == 0 and idx > 0:\n",
    "        print(f'Included data from first {idx * BATCH_SIZE} samples')\n",
    "print(f'Class distribution {dict(Counter(lst_target))}')"
   ]
  },
  {
   "cell_type": "code",
   "execution_count": 113,
   "id": "d287fe53",
   "metadata": {},
   "outputs": [
    {
     "data": {
      "text/plain": [
       "(17000, 34)"
      ]
     },
     "execution_count": 113,
     "metadata": {},
     "output_type": "execute_result"
    }
   ],
   "source": [
    "len(lst_target), len(set(lst_target))"
   ]
  },
  {
   "cell_type": "markdown",
   "id": "f9c6a183",
   "metadata": {},
   "source": [
    "### Balanced Random Selection (Folder)"
   ]
  },
  {
   "cell_type": "code",
   "execution_count": 157,
   "id": "c9484f45",
   "metadata": {},
   "outputs": [],
   "source": [
    "n_samples = 500\n",
    "if os.path.exists(BALANCED_DIR):\n",
    "    shutil.rmtree(BALANCED_DIR)\n",
    "shutil.copytree(PROCESSED_DIR, BALANCED_DIR, dirs_exist_ok=False)\n",
    "# create a list of files to be moved\n",
    "dirs = os.listdir(BALANCED_DIR)\n",
    "if '.DS_Store' in dirs: dirs.remove('.DS_Store')\n",
    "\n",
    "dict_files = {}\n",
    "for d, files in [(d, os.listdir(BALANCED_DIR + d)) for d in dirs if d != '.DS_Store']:\n",
    "    if '.DS_Store' in files: files.remove('.DS_Store')\n",
    "    dict_files[d] = numpy.random.choice(files, size=n_samples, replace=False) if len(files) > n_samples else files\n",
    "\n",
    "for key, val in dict_files.items():\n",
    "    del_files = []\n",
    "    all_files = os.listdir(BALANCED_DIR + key)\n",
    "    if len(all_files) > n_samples:\n",
    "        del_files = list(set(all_files) - set(val))\n",
    "    for f in del_files:\n",
    "        os.remove(os.path.join(BALANCED_DIR, key, f))"
   ]
  },
  {
   "cell_type": "markdown",
   "id": "121ffeae",
   "metadata": {},
   "source": [
    "### Augmentation\n",
    "Augmentation can be done in multiple ways like \n",
    "- Images can be rotated \n",
    "- Images can be zoomed in/out\n",
    "- Adding some amount of noise to the images\n",
    "- Images have been flipped\n",
    "- Images have low brightness\n",
    "- Images have been sheared"
   ]
  },
  {
   "cell_type": "code",
   "execution_count": 188,
   "id": "d0636e65",
   "metadata": {},
   "outputs": [
    {
     "name": "stdout",
     "output_type": "stream",
     "text": [
      "./images/balanced/Apple___healthy/00a6039c-e425-4f7d-81b1-d6b0e668517e___RS_HL 7669.JPG\n"
     ]
    },
    {
     "data": {
      "text/plain": [
       "array([[[169, 168, 175, ..., 209, 209, 209],\n",
       "        [136, 135, 142, ..., 176, 176, 176],\n",
       "        [143, 142, 149, ..., 180, 180, 180]],\n",
       "\n",
       "       [[174, 171, 174, ..., 209, 209, 209],\n",
       "        [141, 138, 141, ..., 176, 176, 176],\n",
       "        [148, 145, 148, ..., 180, 180, 180]],\n",
       "\n",
       "       [[175, 170, 168, ..., 210, 210, 210],\n",
       "        [142, 137, 135, ..., 177, 177, 177],\n",
       "        [149, 144, 142, ..., 181, 181, 181]],\n",
       "\n",
       "       ...,\n",
       "\n",
       "       [[178, 175, 170, ..., 186, 187, 188],\n",
       "        [144, 141, 136, ..., 153, 154, 155],\n",
       "        [154, 151, 146, ..., 160, 161, 162]],\n",
       "\n",
       "       [[174, 177, 174, ..., 186, 187, 188],\n",
       "        [140, 143, 140, ..., 153, 154, 155],\n",
       "        [150, 153, 150, ..., 160, 161, 162]],\n",
       "\n",
       "       [[164, 175, 179, ..., 186, 188, 189],\n",
       "        [130, 141, 145, ..., 153, 155, 156],\n",
       "        [140, 151, 155, ..., 160, 162, 163]]], dtype=uint8)"
      ]
     },
     "execution_count": 188,
     "metadata": {},
     "output_type": "execute_result"
    }
   ],
   "source": [
    "path = BALANCED_DIR + 'Apple___healthy/' + '00a6039c-e425-4f7d-81b1-d6b0e668517e___RS_HL 7669.JPG'\n",
    "print(path)\n",
    "x = cv2.imread(\"./images/balanced/Apple___healthy/00a6039c-e425-4f7d-81b1-d6b0e668517e___RS_HL 7669.JPG\")\n",
    "x.transpose(1,2,0)"
   ]
  },
  {
   "cell_type": "code",
   "execution_count": 190,
   "id": "1e79ab03",
   "metadata": {},
   "outputs": [],
   "source": [
    "cv2.imshow(\"Image\",x)"
   ]
  },
  {
   "cell_type": "code",
   "execution_count": 177,
   "id": "975be4ff",
   "metadata": {},
   "outputs": [],
   "source": [
    "import numpy as np\n",
    "import imgaug as ia\n",
    "import imgaug.augmenters as iaa\n",
    "import cv2\n",
    "\n",
    "\n",
    "\n",
    "ia.seed(1)\n",
    "\n",
    "# Example batch of images.\n",
    "# The array has shape (32, 64, 64, 3) and dtype uint8.\n",
    "images = np.array(\n",
    "    [ia.quokka(size=(64, 64)) for _ in range(32)],\n",
    "    dtype=np.uint8\n",
    ")\n",
    "\n",
    "seq = iaa.Sequential([\n",
    "    iaa.Fliplr(0.5), # horizontal flips\n",
    "    iaa.Crop(percent=(0, 0.1)), # random crops\n",
    "    # Small gaussian blur with random sigma between 0 and 0.5.\n",
    "    # But we only blur about 50% of all images.\n",
    "    iaa.Sometimes(\n",
    "        0.5,\n",
    "        iaa.GaussianBlur(sigma=(0, 0.5))\n",
    "    ),\n",
    "    # Strengthen or weaken the contrast in each image.\n",
    "    iaa.LinearContrast((0.75, 1.5)),\n",
    "    # Add gaussian noise.\n",
    "    # For 50% of all images, we sample the noise once per pixel.\n",
    "    # For the other 50% of all images, we sample the noise per pixel AND\n",
    "    # channel. This can change the color (not only brightness) of the\n",
    "    # pixels.\n",
    "    iaa.AdditiveGaussianNoise(loc=0, scale=(0.0, 0.05*255), per_channel=0.5),\n",
    "    # Make some images brighter and some darker.\n",
    "    # In 20% of all cases, we sample the multiplier once per channel,\n",
    "    # which can end up changing the color of the images.\n",
    "    iaa.Multiply((0.8, 1.2), per_channel=0.2),\n",
    "    # Apply affine transformations to each image.\n",
    "    # Scale/zoom them, translate/move them, rotate them and shear them.\n",
    "    iaa.Affine(\n",
    "        scale={\"x\": (0.8, 1.2), \"y\": (0.8, 1.2)},\n",
    "        translate_percent={\"x\": (-0.2, 0.2), \"y\": (-0.2, 0.2)},\n",
    "        rotate=(-25, 25),\n",
    "        shear=(-8, 8)\n",
    "    )\n",
    "], random_order=True) # apply augmenters in random order\n",
    "\n",
    "images_aug = seq(images=images)"
   ]
  }
 ],
 "metadata": {
  "kernelspec": {
   "display_name": "Python 3 (ipykernel)",
   "language": "python",
   "name": "python3"
  },
  "language_info": {
   "codemirror_mode": {
    "name": "ipython",
    "version": 3
   },
   "file_extension": ".py",
   "mimetype": "text/x-python",
   "name": "python",
   "nbconvert_exporter": "python",
   "pygments_lexer": "ipython3",
   "version": "3.9.0"
  }
 },
 "nbformat": 4,
 "nbformat_minor": 5
}
